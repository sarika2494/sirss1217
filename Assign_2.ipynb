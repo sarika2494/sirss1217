{
  "nbformat": 4,
  "nbformat_minor": 0,
  "metadata": {
    "colab": {
      "name": "Assign-2.ipynb",
      "provenance": []
    },
    "kernelspec": {
      "name": "python3",
      "display_name": "Python 3"
    },
    "language_info": {
      "name": "python"
    }
  },
  "cells": [
    {
      "cell_type": "code",
      "metadata": {
        "colab": {
          "base_uri": "https://localhost:8080/",
          "height": 35
        },
        "id": "isNwawUTaWH8",
        "outputId": "eff1a5ac-c671-445d-9a60-4289178adf58"
      },
      "source": [
        "#Q1. Write a lambda expression to extract first word of a string.\n",
        "\n",
        "str=\"Welcome to Python Programming\"\n",
        "first_word = lambda str:str.split()[0]\n",
        "first_word(str)"
      ],
      "execution_count": 11,
      "outputs": [
        {
          "output_type": "execute_result",
          "data": {
            "application/vnd.google.colaboratory.intrinsic+json": {
              "type": "string"
            },
            "text/plain": [
              "'Welcome'"
            ]
          },
          "metadata": {
            "tags": []
          },
          "execution_count": 11
        }
      ]
    },
    {
      "cell_type": "code",
      "metadata": {
        "colab": {
          "base_uri": "https://localhost:8080/"
        },
        "id": "1rCrH2qga2Li",
        "outputId": "18d1bd89-9a9d-49a6-cf12-f70da32d08fe"
      },
      "source": [
        "#Q2. Write a function to extract first word of s string (with many words separated by space).\n",
        "\n",
        "def first_word(s):\n",
        "  new_list=s.split(\" \")\n",
        "  print(new_list[0])\n",
        "first_word(\"Welcome to Python Programming\")"
      ],
      "execution_count": null,
      "outputs": [
        {
          "output_type": "stream",
          "text": [
            "Welcome\n"
          ],
          "name": "stdout"
        }
      ]
    },
    {
      "cell_type": "code",
      "metadata": {
        "id": "v066Qs0Hb8Gw",
        "colab": {
          "base_uri": "https://localhost:8080/"
        },
        "outputId": "3bfcedce-50b5-4101-a82b-520063616df4"
      },
      "source": [
        "#Q3. Extract the first word from every string from a list of strings by \n",
        "#using map function\n",
        "\n",
        "new_list=[\"Welcome to Python Programming\",\"I am doing assignment\",\"Tommorow is Sunday\"]\n",
        "list(map(lambda s:s.split()[0],new_list))"
      ],
      "execution_count": 14,
      "outputs": [
        {
          "output_type": "execute_result",
          "data": {
            "text/plain": [
              "['Welcome', 'I', 'Tommorow']"
            ]
          },
          "metadata": {
            "tags": []
          },
          "execution_count": 14
        }
      ]
    },
    {
      "cell_type": "code",
      "metadata": {
        "colab": {
          "base_uri": "https://localhost:8080/"
        },
        "id": "QEJMHXUnX4RZ",
        "outputId": "864b6f1a-ec26-499e-dd50-cf321d636489"
      },
      "source": [
        "#Q4. Write a function to return a list of prime factors of a given number\n",
        "\n",
        "def prime_func(val):\n",
        "  prime_list=[]\n",
        "  for i in range(2,val):\n",
        "    if val%i==0:\n",
        "      prime_list.append(i)\n",
        "  print(prime_list)\n",
        "prime_func(22)"
      ],
      "execution_count": 7,
      "outputs": [
        {
          "output_type": "stream",
          "text": [
            "[2, 11]\n"
          ],
          "name": "stdout"
        }
      ]
    },
    {
      "cell_type": "code",
      "metadata": {
        "colab": {
          "base_uri": "https://localhost:8080/"
        },
        "id": "qOfROp9bbODH",
        "outputId": "f9cc4ce6-6ada-4166-e2dd-e0c558a148d3"
      },
      "source": [
        "#Q5. Write a function that finds 2nd largest among 4 numbers \n",
        "#(Repetitions are allowed, without sorting)\n",
        "\n",
        "\n",
        "def second_large(list1):\n",
        "  mx=max(list1[0],list1[1])\n",
        "  secondmax=min(list1[0],list1[1])\n",
        "  n =len(list1)\n",
        "  for i in range(2,n):\n",
        "    if list1[i]>mx:\n",
        "        secondmax=mx\n",
        "        mx=list1[i]\n",
        "    elif list1[i]>secondmax and mx != list1[i]:\n",
        "        secondmax=list1[i]\n",
        "  print(\"Second highest number is : \",secondmax)\n",
        "list1=[33,12,45,78]\n",
        "second_large(list1)"
      ],
      "execution_count": 17,
      "outputs": [
        {
          "output_type": "stream",
          "text": [
            "Second highest number is :  45\n"
          ],
          "name": "stdout"
        }
      ]
    },
    {
      "cell_type": "code",
      "metadata": {
        "id": "03PhXZRTd7yw"
      },
      "source": [
        ""
      ],
      "execution_count": null,
      "outputs": []
    }
  ]
}