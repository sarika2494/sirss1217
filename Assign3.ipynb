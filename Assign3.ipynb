{
  "nbformat": 4,
  "nbformat_minor": 0,
  "metadata": {
    "colab": {
      "name": "Assign3.ipynb",
      "provenance": []
    },
    "kernelspec": {
      "name": "python3",
      "display_name": "Python 3"
    },
    "language_info": {
      "name": "python"
    }
  },
  "cells": [
    {
      "cell_type": "code",
      "metadata": {
        "colab": {
          "base_uri": "https://localhost:8080/"
        },
        "id": "cWAzZbvgWyQ1",
        "outputId": "1e6350d8-721d-4800-e13c-99d4305ddde3"
      },
      "source": [
        "#Q1. Write a function to return nth term of Fibonacci sequence.\n",
        "\n",
        "nthterm=int(input(\"Enter the nth term:\"))\n",
        "num1=0\n",
        "num2=1\n",
        "for i in range(1,nthterm):\n",
        "  print(num1)\n",
        "  num3=num1+num2\n",
        "  num1=num2\n",
        "  num2=num3"
      ],
      "execution_count": 2,
      "outputs": [
        {
          "output_type": "stream",
          "text": [
            "Enter the nth term:10\n",
            "0\n",
            "1\n",
            "1\n",
            "2\n",
            "3\n",
            "5\n",
            "8\n",
            "13\n",
            "21\n"
          ],
          "name": "stdout"
        }
      ]
    },
    {
      "cell_type": "code",
      "metadata": {
        "colab": {
          "base_uri": "https://localhost:8080/"
        },
        "id": "OJeXy5iLYj_e",
        "outputId": "876087d7-d9a7-410a-bdf9-a9b9b7f51bb5"
      },
      "source": [
        "#Q2. Write a function to find out GCD of two numbers using EUCLID'S algorithm.\n",
        "\n",
        "def gcd(a, b):\n",
        "    if a == 0 :\n",
        "        return b\n",
        "     \n",
        "    return gcd(b%a, a)\n",
        "    \n",
        "a = 10\n",
        "b = 15\n",
        "print(\"gcd(\", a , \",\" , b, \") = \", gcd(a, b))\n",
        " \n",
        "a = 35\n",
        "b = 10\n",
        "print(\"gcd(\", a , \",\" , b, \") = \", gcd(a, b))\n",
        " \n",
        "a = 31\n",
        "b = 2\n",
        "print(\"gcd(\", a , \",\" , b, \") = \", gcd(a, b))"
      ],
      "execution_count": 3,
      "outputs": [
        {
          "output_type": "stream",
          "text": [
            "gcd( 10 , 15 ) =  5\n",
            "gcd( 35 , 10 ) =  5\n",
            "gcd( 31 , 2 ) =  1\n"
          ],
          "name": "stdout"
        }
      ]
    },
    {
      "cell_type": "code",
      "metadata": {
        "colab": {
          "base_uri": "https://localhost:8080/"
        },
        "id": "ZNDNV-kvZXOj",
        "outputId": "32a5e735-2780-46a9-d1b7-20238d1d6f4b"
      },
      "source": [
        "#Q3. Write a function to find LCM of two number in most optimizers way.\n",
        "\n",
        "def gcd(a,b):\n",
        "    if a == 0:\n",
        "        return b\n",
        "    return gcd(b % a, a)\n",
        " \n",
        "# Function to return LCM of two numbers\n",
        "def lcm(a,b):\n",
        "    return (a / gcd(a,b))* b\n",
        " \n",
        "# Driver program to test above function\n",
        "a = 15\n",
        "b = 20\n",
        "print('LCM of', a, 'and', b, 'is', lcm(a, b))"
      ],
      "execution_count": 4,
      "outputs": [
        {
          "output_type": "stream",
          "text": [
            "LCM of 15 and 20 is 60.0\n"
          ],
          "name": "stdout"
        }
      ]
    },
    {
      "cell_type": "code",
      "metadata": {
        "id": "5yEJhOmqZpme"
      },
      "source": [
        ""
      ],
      "execution_count": null,
      "outputs": []
    }
  ]
}